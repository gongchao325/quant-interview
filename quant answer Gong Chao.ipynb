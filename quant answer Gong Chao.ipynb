{
 "cells": [
  {
   "cell_type": "code",
   "execution_count": 1,
   "metadata": {},
   "outputs": [],
   "source": [
    "import pandas as pd\n",
    "import numpy as np"
   ]
  },
  {
   "cell_type": "markdown",
   "metadata": {},
   "source": [
    "### Q1 ###"
   ]
  },
  {
   "cell_type": "markdown",
   "metadata": {},
   "source": [
    "(a)"
   ]
  },
  {
   "cell_type": "code",
   "execution_count": null,
   "metadata": {},
   "outputs": [],
   "source": [
    "# table name: Employee\n",
    "# column name: id, Name, Salary, manager_id\n",
    "# index column: id"
   ]
  },
  {
   "cell_type": "code",
   "execution_count": null,
   "metadata": {},
   "outputs": [],
   "source": [
    "filtered_name_list = [] # it's an empty list which I will save filtered empolyee name into it\n",
    "for i in range(Employee.shape[0]): \n",
    "    employee_name = Employee['Name'].iloc[i]\n",
    "    employee_salary = Employee['Salary'].iloc[i]\n",
    "    manager_id = Employee['manager_id'].iloc[i]\n",
    "    if manager_id is np.nan: # if this employee has not immediate manager, just pass it\n",
    "        pass\n",
    "    else:\n",
    "        manager_salary = Employee['Salary'].loc[manager_id]\n",
    "        if employee_salary>manager_salary: # if employee's salary is more than manager's salary, save it into the empty list and print it\n",
    "            filtered_name_list.append(employee_name)\n",
    "            print(employee_name)"
   ]
  },
  {
   "cell_type": "markdown",
   "metadata": {},
   "source": [
    "(b)"
   ]
  },
  {
   "cell_type": "code",
   "execution_count": null,
   "metadata": {
    "scrolled": true
   },
   "outputs": [],
   "source": [
    "manager_list = Employee['manager_id'].unique() # get each manager's id\n",
    "filtered_salary_list = []\n",
    "for i in range(Employee.shape[0]): \n",
    "    if Employee['id'].iloc[i] not in manager_list:\n",
    "        salary = Employee['Salary'].iloc[i]\n",
    "        filtered_salary_list.append(salary)\n",
    "outcome = np.mean(filtered_salary_list)\n",
    "print(outcome)"
   ]
  },
  {
   "cell_type": "markdown",
   "metadata": {},
   "source": [
    "### Q2 ###"
   ]
  },
  {
   "cell_type": "code",
   "execution_count": 2,
   "metadata": {},
   "outputs": [],
   "source": [
    "def namestr(obj, namespace): # define a returning variable name function\n",
    "    return [name for name in namespace if namespace[name] is obj]"
   ]
  },
  {
   "cell_type": "code",
   "execution_count": 3,
   "metadata": {},
   "outputs": [],
   "source": [
    "def exists(v):\n",
    "    try:\n",
    "        v\n",
    "        return namestr(v, globals())[0] +' is defined'\n",
    "    except: # in fact, we don't need this, because it will show error automatically\n",
    "        return namestr(v, globals())[0] +' is not defined'"
   ]
  },
  {
   "cell_type": "code",
   "execution_count": 4,
   "metadata": {},
   "outputs": [
    {
     "data": {
      "text/plain": [
       "'test is defined'"
      ]
     },
     "execution_count": 4,
     "metadata": {},
     "output_type": "execute_result"
    }
   ],
   "source": [
    "test = 1\n",
    "exists(test)"
   ]
  },
  {
   "cell_type": "markdown",
   "metadata": {},
   "source": [
    "### Q3 ###"
   ]
  },
  {
   "cell_type": "code",
   "execution_count": 5,
   "metadata": {},
   "outputs": [],
   "source": [
    "def to_pascal_tri(n:int):\n",
    "    ans = [[1]]    \n",
    "    for i in range(1,n):\n",
    "        ans.append(list(map(lambda x, y : x + y, ans[-1]+[0], [0]+ans[-1])))\n",
    "    for i in ans:\n",
    "        print(i)"
   ]
  },
  {
   "cell_type": "code",
   "execution_count": 6,
   "metadata": {
    "scrolled": true
   },
   "outputs": [
    {
     "name": "stdout",
     "output_type": "stream",
     "text": [
      "[1]\n",
      "[1, 1]\n",
      "[1, 2, 1]\n",
      "[1, 3, 3, 1]\n",
      "[1, 4, 6, 4, 1]\n"
     ]
    }
   ],
   "source": [
    "to_pascal_tri(5)"
   ]
  },
  {
   "cell_type": "code",
   "execution_count": 7,
   "metadata": {},
   "outputs": [
    {
     "name": "stdout",
     "output_type": "stream",
     "text": [
      "[1]\n",
      "[1, 1]\n",
      "[1, 2, 1]\n",
      "[1, 3, 3, 1]\n"
     ]
    }
   ],
   "source": [
    "to_pascal_tri(4)"
   ]
  },
  {
   "cell_type": "code",
   "execution_count": 8,
   "metadata": {},
   "outputs": [
    {
     "name": "stdout",
     "output_type": "stream",
     "text": [
      "[1]\n",
      "[1, 1]\n",
      "[1, 2, 1]\n",
      "[1, 3, 3, 1]\n",
      "[1, 4, 6, 4, 1]\n",
      "[1, 5, 10, 10, 5, 1]\n"
     ]
    }
   ],
   "source": [
    "to_pascal_tri(6)"
   ]
  },
  {
   "cell_type": "markdown",
   "metadata": {},
   "source": [
    "### Q4 ### "
   ]
  },
  {
   "cell_type": "code",
   "execution_count": 9,
   "metadata": {},
   "outputs": [],
   "source": [
    "import yfinance as yf"
   ]
  },
  {
   "cell_type": "code",
   "execution_count": 10,
   "metadata": {},
   "outputs": [
    {
     "name": "stdout",
     "output_type": "stream",
     "text": [
      "[*********************100%***********************]  7 of 7 completed\n"
     ]
    }
   ],
   "source": [
    "data = yf.download(\"AAPL IBM GOOG BP XOM COST GS\", start=\"2016-01-01\", end=\"2016-12-31\")"
   ]
  },
  {
   "cell_type": "code",
   "execution_count": 11,
   "metadata": {},
   "outputs": [
    {
     "data": {
      "text/html": [
       "<div>\n",
       "<style scoped>\n",
       "    .dataframe tbody tr th:only-of-type {\n",
       "        vertical-align: middle;\n",
       "    }\n",
       "\n",
       "    .dataframe tbody tr th {\n",
       "        vertical-align: top;\n",
       "    }\n",
       "\n",
       "    .dataframe thead th {\n",
       "        text-align: right;\n",
       "    }\n",
       "</style>\n",
       "<table border=\"1\" class=\"dataframe\">\n",
       "  <thead>\n",
       "    <tr style=\"text-align: right;\">\n",
       "      <th></th>\n",
       "      <th>AAPL</th>\n",
       "      <th>BP</th>\n",
       "      <th>COST</th>\n",
       "      <th>GOOG</th>\n",
       "      <th>GS</th>\n",
       "      <th>IBM</th>\n",
       "      <th>XOM</th>\n",
       "    </tr>\n",
       "    <tr>\n",
       "      <th>Date</th>\n",
       "      <th></th>\n",
       "      <th></th>\n",
       "      <th></th>\n",
       "      <th></th>\n",
       "      <th></th>\n",
       "      <th></th>\n",
       "      <th></th>\n",
       "    </tr>\n",
       "  </thead>\n",
       "  <tbody>\n",
       "    <tr>\n",
       "      <th>2016-01-04</th>\n",
       "      <td>0.000855</td>\n",
       "      <td>-0.006398</td>\n",
       "      <td>-0.012136</td>\n",
       "      <td>-0.022454</td>\n",
       "      <td>-0.017145</td>\n",
       "      <td>-0.012135</td>\n",
       "      <td>-0.006286</td>\n",
       "    </tr>\n",
       "    <tr>\n",
       "      <th>2016-01-05</th>\n",
       "      <td>-0.025059</td>\n",
       "      <td>-0.004185</td>\n",
       "      <td>0.002444</td>\n",
       "      <td>0.000998</td>\n",
       "      <td>-0.017219</td>\n",
       "      <td>-0.000735</td>\n",
       "      <td>0.008521</td>\n",
       "    </tr>\n",
       "    <tr>\n",
       "      <th>2016-01-06</th>\n",
       "      <td>-0.019570</td>\n",
       "      <td>-0.020369</td>\n",
       "      <td>-0.009254</td>\n",
       "      <td>0.001400</td>\n",
       "      <td>-0.024412</td>\n",
       "      <td>-0.005006</td>\n",
       "      <td>-0.008321</td>\n",
       "    </tr>\n",
       "    <tr>\n",
       "      <th>2016-01-07</th>\n",
       "      <td>-0.042205</td>\n",
       "      <td>-0.028713</td>\n",
       "      <td>-0.022909</td>\n",
       "      <td>-0.023170</td>\n",
       "      <td>-0.030735</td>\n",
       "      <td>-0.017090</td>\n",
       "      <td>-0.016006</td>\n",
       "    </tr>\n",
       "    <tr>\n",
       "      <th>2016-01-08</th>\n",
       "      <td>0.005288</td>\n",
       "      <td>-0.017669</td>\n",
       "      <td>-0.017504</td>\n",
       "      <td>-0.016410</td>\n",
       "      <td>-0.004131</td>\n",
       "      <td>-0.009258</td>\n",
       "      <td>-0.020202</td>\n",
       "    </tr>\n",
       "    <tr>\n",
       "      <th>...</th>\n",
       "      <td>...</td>\n",
       "      <td>...</td>\n",
       "      <td>...</td>\n",
       "      <td>...</td>\n",
       "      <td>...</td>\n",
       "      <td>...</td>\n",
       "      <td>...</td>\n",
       "    </tr>\n",
       "    <tr>\n",
       "      <th>2016-12-23</th>\n",
       "      <td>0.001978</td>\n",
       "      <td>0.002981</td>\n",
       "      <td>0.000062</td>\n",
       "      <td>-0.001706</td>\n",
       "      <td>0.003540</td>\n",
       "      <td>-0.002095</td>\n",
       "      <td>-0.001761</td>\n",
       "    </tr>\n",
       "    <tr>\n",
       "      <th>2016-12-27</th>\n",
       "      <td>0.006351</td>\n",
       "      <td>0.002431</td>\n",
       "      <td>-0.000185</td>\n",
       "      <td>0.002076</td>\n",
       "      <td>0.002448</td>\n",
       "      <td>0.002579</td>\n",
       "      <td>0.000441</td>\n",
       "    </tr>\n",
       "    <tr>\n",
       "      <th>2016-12-28</th>\n",
       "      <td>-0.004264</td>\n",
       "      <td>0.003772</td>\n",
       "      <td>-0.006418</td>\n",
       "      <td>-0.008212</td>\n",
       "      <td>-0.003767</td>\n",
       "      <td>-0.005684</td>\n",
       "      <td>-0.004959</td>\n",
       "    </tr>\n",
       "    <tr>\n",
       "      <th>2016-12-29</th>\n",
       "      <td>-0.000257</td>\n",
       "      <td>0.004027</td>\n",
       "      <td>0.000745</td>\n",
       "      <td>-0.002879</td>\n",
       "      <td>-0.010264</td>\n",
       "      <td>0.002467</td>\n",
       "      <td>0.000554</td>\n",
       "    </tr>\n",
       "    <tr>\n",
       "      <th>2016-12-30</th>\n",
       "      <td>-0.007796</td>\n",
       "      <td>-0.000535</td>\n",
       "      <td>-0.006330</td>\n",
       "      <td>-0.014014</td>\n",
       "      <td>0.005332</td>\n",
       "      <td>-0.003662</td>\n",
       "      <td>-0.000996</td>\n",
       "    </tr>\n",
       "  </tbody>\n",
       "</table>\n",
       "<p>252 rows × 7 columns</p>\n",
       "</div>"
      ],
      "text/plain": [
       "                AAPL        BP      COST      GOOG        GS       IBM  \\\n",
       "Date                                                                     \n",
       "2016-01-04  0.000855 -0.006398 -0.012136 -0.022454 -0.017145 -0.012135   \n",
       "2016-01-05 -0.025059 -0.004185  0.002444  0.000998 -0.017219 -0.000735   \n",
       "2016-01-06 -0.019570 -0.020369 -0.009254  0.001400 -0.024412 -0.005006   \n",
       "2016-01-07 -0.042205 -0.028713 -0.022909 -0.023170 -0.030735 -0.017090   \n",
       "2016-01-08  0.005288 -0.017669 -0.017504 -0.016410 -0.004131 -0.009258   \n",
       "...              ...       ...       ...       ...       ...       ...   \n",
       "2016-12-23  0.001978  0.002981  0.000062 -0.001706  0.003540 -0.002095   \n",
       "2016-12-27  0.006351  0.002431 -0.000185  0.002076  0.002448  0.002579   \n",
       "2016-12-28 -0.004264  0.003772 -0.006418 -0.008212 -0.003767 -0.005684   \n",
       "2016-12-29 -0.000257  0.004027  0.000745 -0.002879 -0.010264  0.002467   \n",
       "2016-12-30 -0.007796 -0.000535 -0.006330 -0.014014  0.005332 -0.003662   \n",
       "\n",
       "                 XOM  \n",
       "Date                  \n",
       "2016-01-04 -0.006286  \n",
       "2016-01-05  0.008521  \n",
       "2016-01-06 -0.008321  \n",
       "2016-01-07 -0.016006  \n",
       "2016-01-08 -0.020202  \n",
       "...              ...  \n",
       "2016-12-23 -0.001761  \n",
       "2016-12-27  0.000441  \n",
       "2016-12-28 -0.004959  \n",
       "2016-12-29  0.000554  \n",
       "2016-12-30 -0.000996  \n",
       "\n",
       "[252 rows x 7 columns]"
      ]
     },
     "execution_count": 11,
     "metadata": {},
     "output_type": "execute_result"
    }
   ],
   "source": [
    "daily_ret = data['Adj Close'].pct_change().dropna()\n",
    "daily_ret"
   ]
  },
  {
   "cell_type": "code",
   "execution_count": 12,
   "metadata": {},
   "outputs": [],
   "source": [
    "daily_ret['Portfolio'] = daily_ret['AAPL']*0.15 + daily_ret['IBM']*0.2 + daily_ret['GOOG']*0.2 + \\\n",
    "                         daily_ret['BP']*0.15 + daily_ret['XOM']*0.1 + daily_ret['COST']*0.15 + daily_ret['GS']*0.05"
   ]
  },
  {
   "cell_type": "markdown",
   "metadata": {},
   "source": [
    "(a)"
   ]
  },
  {
   "cell_type": "code",
   "execution_count": 13,
   "metadata": {
    "scrolled": true
   },
   "outputs": [
    {
     "data": {
      "text/plain": [
       "Date\n",
       "2016-06-24   -0.037800\n",
       "2016-01-15   -0.028203\n",
       "2016-01-07   -0.025263\n",
       "2016-02-02   -0.022824\n",
       "2016-09-09   -0.020811\n",
       "                ...   \n",
       "2016-02-17    0.020818\n",
       "2016-01-28    0.023157\n",
       "2016-03-01    0.023482\n",
       "2016-01-22    0.025474\n",
       "2016-01-14    0.027103\n",
       "Name: Portfolio, Length: 252, dtype: float64"
      ]
     },
     "execution_count": 13,
     "metadata": {},
     "output_type": "execute_result"
    }
   ],
   "source": [
    "daily_ret['Portfolio'].sort_values(ascending = True)"
   ]
  },
  {
   "cell_type": "code",
   "execution_count": 14,
   "metadata": {},
   "outputs": [
    {
     "data": {
      "text/plain": [
       "12.600000000000001"
      ]
     },
     "execution_count": 14,
     "metadata": {},
     "output_type": "execute_result"
    }
   ],
   "source": [
    "252*0.05"
   ]
  },
  {
   "cell_type": "code",
   "execution_count": 15,
   "metadata": {},
   "outputs": [],
   "source": [
    "# so we choose 12th and 13th return and use linear interpolation to calculate the 95% VaR"
   ]
  },
  {
   "cell_type": "code",
   "execution_count": 16,
   "metadata": {},
   "outputs": [],
   "source": [
    "ret_12 = daily_ret['Portfolio'].sort_values(ascending = True).iloc[11]\n",
    "ret_13 = daily_ret['Portfolio'].sort_values(ascending = True).iloc[12]"
   ]
  },
  {
   "cell_type": "code",
   "execution_count": 17,
   "metadata": {},
   "outputs": [
    {
     "data": {
      "text/plain": [
       "-0.01563900280449278"
      ]
     },
     "execution_count": 17,
     "metadata": {},
     "output_type": "execute_result"
    }
   ],
   "source": [
    "ret_12"
   ]
  },
  {
   "cell_type": "code",
   "execution_count": 18,
   "metadata": {},
   "outputs": [
    {
     "data": {
      "text/plain": [
       "-0.015156076480693339"
      ]
     },
     "execution_count": 18,
     "metadata": {},
     "output_type": "execute_result"
    }
   ],
   "source": [
    "ret_13"
   ]
  },
  {
   "cell_type": "code",
   "execution_count": 19,
   "metadata": {},
   "outputs": [],
   "source": [
    "VaR_95 = abs(ret_13) + (13-12.6)/(13-12)*(abs(ret_12-ret_13))"
   ]
  },
  {
   "cell_type": "code",
   "execution_count": 20,
   "metadata": {},
   "outputs": [
    {
     "name": "stdout",
     "output_type": "stream",
     "text": [
      "95% VaR of the portfolio is 0.015349247010213115\n"
     ]
    }
   ],
   "source": [
    "print('95% VaR of the portfolio is ' + str(VaR_95))"
   ]
  },
  {
   "cell_type": "code",
   "execution_count": 38,
   "metadata": {},
   "outputs": [],
   "source": [
    "SVaR_95 = abs(daily_ret['Portfolio'].sort_values(ascending = True).iloc[0:12].sum()+-1*VaR_95)/13"
   ]
  },
  {
   "cell_type": "code",
   "execution_count": 39,
   "metadata": {},
   "outputs": [
    {
     "name": "stdout",
     "output_type": "stream",
     "text": [
      "95% SVaR of the portfolio is 0.021187446167094927\n"
     ]
    }
   ],
   "source": [
    "print('95% SVaR of the portfolio is ' + str(SVaR_95))"
   ]
  },
  {
   "cell_type": "markdown",
   "metadata": {},
   "source": [
    "(b)"
   ]
  },
  {
   "cell_type": "code",
   "execution_count": 23,
   "metadata": {},
   "outputs": [],
   "source": [
    "cov = daily_ret[['AAPL','IBM','GOOG','BP','XOM','COST','GS']].cov()"
   ]
  },
  {
   "cell_type": "code",
   "execution_count": 24,
   "metadata": {
    "scrolled": true
   },
   "outputs": [
    {
     "data": {
      "text/html": [
       "<div>\n",
       "<style scoped>\n",
       "    .dataframe tbody tr th:only-of-type {\n",
       "        vertical-align: middle;\n",
       "    }\n",
       "\n",
       "    .dataframe tbody tr th {\n",
       "        vertical-align: top;\n",
       "    }\n",
       "\n",
       "    .dataframe thead th {\n",
       "        text-align: right;\n",
       "    }\n",
       "</style>\n",
       "<table border=\"1\" class=\"dataframe\">\n",
       "  <thead>\n",
       "    <tr style=\"text-align: right;\">\n",
       "      <th></th>\n",
       "      <th>AAPL</th>\n",
       "      <th>IBM</th>\n",
       "      <th>GOOG</th>\n",
       "      <th>BP</th>\n",
       "      <th>XOM</th>\n",
       "      <th>COST</th>\n",
       "      <th>GS</th>\n",
       "    </tr>\n",
       "  </thead>\n",
       "  <tbody>\n",
       "    <tr>\n",
       "      <th>AAPL</th>\n",
       "      <td>0.000216</td>\n",
       "      <td>0.000056</td>\n",
       "      <td>0.000087</td>\n",
       "      <td>0.000079</td>\n",
       "      <td>0.000048</td>\n",
       "      <td>0.000051</td>\n",
       "      <td>0.000089</td>\n",
       "    </tr>\n",
       "    <tr>\n",
       "      <th>IBM</th>\n",
       "      <td>0.000056</td>\n",
       "      <td>0.000155</td>\n",
       "      <td>0.000054</td>\n",
       "      <td>0.000095</td>\n",
       "      <td>0.000065</td>\n",
       "      <td>0.000025</td>\n",
       "      <td>0.000090</td>\n",
       "    </tr>\n",
       "    <tr>\n",
       "      <th>GOOG</th>\n",
       "      <td>0.000087</td>\n",
       "      <td>0.000054</td>\n",
       "      <td>0.000158</td>\n",
       "      <td>0.000049</td>\n",
       "      <td>0.000030</td>\n",
       "      <td>0.000050</td>\n",
       "      <td>0.000067</td>\n",
       "    </tr>\n",
       "    <tr>\n",
       "      <th>BP</th>\n",
       "      <td>0.000079</td>\n",
       "      <td>0.000095</td>\n",
       "      <td>0.000049</td>\n",
       "      <td>0.000342</td>\n",
       "      <td>0.000152</td>\n",
       "      <td>0.000027</td>\n",
       "      <td>0.000168</td>\n",
       "    </tr>\n",
       "    <tr>\n",
       "      <th>XOM</th>\n",
       "      <td>0.000048</td>\n",
       "      <td>0.000065</td>\n",
       "      <td>0.000030</td>\n",
       "      <td>0.000152</td>\n",
       "      <td>0.000145</td>\n",
       "      <td>0.000022</td>\n",
       "      <td>0.000085</td>\n",
       "    </tr>\n",
       "    <tr>\n",
       "      <th>COST</th>\n",
       "      <td>0.000051</td>\n",
       "      <td>0.000025</td>\n",
       "      <td>0.000050</td>\n",
       "      <td>0.000027</td>\n",
       "      <td>0.000022</td>\n",
       "      <td>0.000123</td>\n",
       "      <td>0.000047</td>\n",
       "    </tr>\n",
       "    <tr>\n",
       "      <th>GS</th>\n",
       "      <td>0.000089</td>\n",
       "      <td>0.000090</td>\n",
       "      <td>0.000067</td>\n",
       "      <td>0.000168</td>\n",
       "      <td>0.000085</td>\n",
       "      <td>0.000047</td>\n",
       "      <td>0.000286</td>\n",
       "    </tr>\n",
       "  </tbody>\n",
       "</table>\n",
       "</div>"
      ],
      "text/plain": [
       "          AAPL       IBM      GOOG        BP       XOM      COST        GS\n",
       "AAPL  0.000216  0.000056  0.000087  0.000079  0.000048  0.000051  0.000089\n",
       "IBM   0.000056  0.000155  0.000054  0.000095  0.000065  0.000025  0.000090\n",
       "GOOG  0.000087  0.000054  0.000158  0.000049  0.000030  0.000050  0.000067\n",
       "BP    0.000079  0.000095  0.000049  0.000342  0.000152  0.000027  0.000168\n",
       "XOM   0.000048  0.000065  0.000030  0.000152  0.000145  0.000022  0.000085\n",
       "COST  0.000051  0.000025  0.000050  0.000027  0.000022  0.000123  0.000047\n",
       "GS    0.000089  0.000090  0.000067  0.000168  0.000085  0.000047  0.000286"
      ]
     },
     "execution_count": 24,
     "metadata": {},
     "output_type": "execute_result"
    }
   ],
   "source": [
    "cov"
   ]
  },
  {
   "cell_type": "code",
   "execution_count": 25,
   "metadata": {},
   "outputs": [],
   "source": [
    "weight = np.array([0.15,0.2,0.2,0.15,0.1,0.15,0.05] )"
   ]
  },
  {
   "cell_type": "code",
   "execution_count": 26,
   "metadata": {},
   "outputs": [],
   "source": [
    "variance = np.dot(np.dot(weight,cov),weight.T)"
   ]
  },
  {
   "cell_type": "code",
   "execution_count": 27,
   "metadata": {},
   "outputs": [
    {
     "data": {
      "text/plain": [
       "0.00906184623184728"
      ]
     },
     "execution_count": 27,
     "metadata": {},
     "output_type": "execute_result"
    }
   ],
   "source": [
    "sigma = np.sqrt(variance)\n",
    "sigma"
   ]
  },
  {
   "cell_type": "code",
   "execution_count": 28,
   "metadata": {
    "scrolled": true
   },
   "outputs": [
    {
     "data": {
      "text/plain": [
       "0.0006431071726651761"
      ]
     },
     "execution_count": 28,
     "metadata": {},
     "output_type": "execute_result"
    }
   ],
   "source": [
    "miu = daily_ret['Portfolio'].mean()\n",
    "miu"
   ]
  },
  {
   "cell_type": "code",
   "execution_count": 29,
   "metadata": {},
   "outputs": [],
   "source": [
    "from scipy.stats import norm"
   ]
  },
  {
   "cell_type": "code",
   "execution_count": 30,
   "metadata": {},
   "outputs": [],
   "source": [
    "Z = -1.645\n",
    "VaR_95 = abs(miu + Z * sigma)\n",
    "SVar_95 = abs(-miu + sigma/(1-0.95)*norm.pdf(-1.645))"
   ]
  },
  {
   "cell_type": "code",
   "execution_count": 31,
   "metadata": {},
   "outputs": [
    {
     "name": "stdout",
     "output_type": "stream",
     "text": [
      "95% VaR of the portfolio is 0.014263629878723599\n",
      "95% SVaR of the portfolio is 0.021764430857792536\n"
     ]
    }
   ],
   "source": [
    "print('95% VaR of the portfolio is ' + str(VaR_95))\n",
    "print('95% SVaR of the portfolio is ' + str(SVaR_95))"
   ]
  },
  {
   "cell_type": "markdown",
   "metadata": {},
   "source": [
    "(c)"
   ]
  },
  {
   "cell_type": "code",
   "execution_count": 32,
   "metadata": {},
   "outputs": [],
   "source": [
    "# I will use mean-variance-efficient frontier, and choose the tangent portfolio as the optimal portfolio each month\n",
    "# But in this case, we only get the realized return which cannot stand for expected return. \n",
    "# I will assume past 1 year return / 252 as next month's daily expected return\n",
    "# Furthermore, I assume daily risk free rate = 0.0001"
   ]
  },
  {
   "cell_type": "code",
   "execution_count": 33,
   "metadata": {},
   "outputs": [
    {
     "name": "stdout",
     "output_type": "stream",
     "text": [
      "[*********************100%***********************]  7 of 7 completed\n"
     ]
    }
   ],
   "source": [
    "# to get past stock info, i need data from 2015-01-01\n",
    "data_2y = yf.download(\"AAPL IBM GOOG BP XOM COST GS\", start=\"2015-01-01\", end=\"2016-12-31\") \n",
    "daily_ret_2y = data_2y['Adj Close'].pct_change().dropna()"
   ]
  },
  {
   "cell_type": "code",
   "execution_count": 34,
   "metadata": {
    "scrolled": false
   },
   "outputs": [],
   "source": [
    "daily_ret_2y = daily_ret_2y[['AAPL','IBM','GOOG','BP','XOM','COST','GS']] # sort the columns in the order of the columns in the question"
   ]
  },
  {
   "cell_type": "code",
   "execution_count": 35,
   "metadata": {},
   "outputs": [],
   "source": [
    "# 1 year has 252 business days and 1 month has 21 business days.\n",
    "rebalance_weight_dict = {} # an empty dict for weight\n",
    "sharpe_ratio_dict = {} # an empty dict for sharpe ratio\n",
    "for i in range(12):\n",
    "    past_1y = daily_ret_2y.iloc[i*21:252+i*21]\n",
    "    expected_ret = (past_1y+1).cumprod().iloc[-1] / 252 # get the expected return of each stock, but need to diveded by 252\n",
    "    cov_mat = past_1y.cov()\n",
    "    # the followings are from the induction of mean-variance-efficient frontier theory\n",
    "    e = np.mat(np.ones(7)).T\n",
    "    R = np.mat(expected_ret).T\n",
    "    V = np.mat(cov_mat)\n",
    "    V_invert = np.linalg.inv(V)\n",
    "    alpha = float(R.T*V_invert*e)\n",
    "    zeta = float(R.T*V_invert*R)\n",
    "    delta = float(e.T*V_invert*e)\n",
    "    a = (zeta*V_invert*e-alpha*V_invert*R)/(zeta*delta-alpha**2)\n",
    "    b = (delta*V_invert*R-alpha*V_invert*e)/(zeta*delta-alpha**2)\n",
    "    Rf = 0.0001 # daily risk free rate = 0.0001\n",
    "    Rtg = (alpha*Rf-zeta)/(delta*Rf-alpha) # return of tangent portfolio\n",
    "    Rmv= alpha/delta\n",
    "    sigma_tg = -(zeta-2*alpha*Rf+delta*Rf*Rf)**0.5/(delta*(Rf-Rmv)) # sigma of tangent portfolio\n",
    "    w_tg = (Rtg-Rf)/(zeta - 2*alpha*Rf+delta*Rf*Rf)*V_invert*(R-Rf*e) # weight of tangent portfolio\n",
    "    sharp_ratio = (Rtg-Rf)/sigma_tg\n",
    "    sharpe_ratio_dict[i+1] = sharp_ratio # save the value into dict\n",
    "    rebalance_weight_dict[i+1] = w_tg # save the value into dict"
   ]
  },
  {
   "cell_type": "code",
   "execution_count": 36,
   "metadata": {
    "scrolled": false
   },
   "outputs": [
    {
     "data": {
      "text/plain": [
       "{1: matrix([[-2.93068737e-04],\n",
       "         [ 1.55776666e-03],\n",
       "         [ 2.25551551e-01],\n",
       "         [ 3.76047753e-02],\n",
       "         [ 6.24529678e-02],\n",
       "         [ 7.30594568e-01],\n",
       "         [-5.74685602e-02]]),\n",
       " 2: matrix([[-0.10848737],\n",
       "         [ 0.01522854],\n",
       "         [ 0.30665441],\n",
       "         [-0.04034308],\n",
       "         [ 0.18911355],\n",
       "         [ 0.72801323],\n",
       "         [-0.09017929]]),\n",
       " 3: matrix([[-0.14271285],\n",
       "         [ 0.11793493],\n",
       "         [ 0.176025  ],\n",
       "         [-0.09246888],\n",
       "         [ 0.33479257],\n",
       "         [ 0.6675123 ],\n",
       "         [-0.06108308]]),\n",
       " 4: matrix([[-0.1132922 ],\n",
       "         [ 0.1928277 ],\n",
       "         [ 0.20802172],\n",
       "         [-0.10736351],\n",
       "         [ 0.33410073],\n",
       "         [ 0.57405419],\n",
       "         [-0.08834862]]),\n",
       " 5: matrix([[-0.16061992],\n",
       "         [ 0.10313838],\n",
       "         [ 0.18074035],\n",
       "         [-0.1095592 ],\n",
       "         [ 0.40105854],\n",
       "         [ 0.63185671],\n",
       "         [-0.04661486]]),\n",
       " 6: matrix([[-0.14317136],\n",
       "         [ 0.15423596],\n",
       "         [ 0.20903499],\n",
       "         [-0.11629082],\n",
       "         [ 0.43501887],\n",
       "         [ 0.56004798],\n",
       "         [-0.09887561]]),\n",
       " 7: matrix([[-0.14959585],\n",
       "         [ 0.13502397],\n",
       "         [ 0.18996995],\n",
       "         [-0.0744721 ],\n",
       "         [ 0.44997941],\n",
       "         [ 0.62827599],\n",
       "         [-0.17918137]]),\n",
       " 8: matrix([[-0.07096008],\n",
       "         [ 0.19337608],\n",
       "         [ 0.21236797],\n",
       "         [-0.07064221],\n",
       "         [ 0.39238256],\n",
       "         [ 0.53609116],\n",
       "         [-0.19261547]]),\n",
       " 9: matrix([[-0.02429169],\n",
       "         [ 0.14480958],\n",
       "         [ 0.24827755],\n",
       "         [-0.08852772],\n",
       "         [ 0.42085725],\n",
       "         [ 0.41898828],\n",
       "         [-0.12011325]]),\n",
       " 10: matrix([[ 0.03118678],\n",
       "         [ 0.17318399],\n",
       "         [ 0.2882932 ],\n",
       "         [-0.03024725],\n",
       "         [ 0.35750717],\n",
       "         [ 0.33263969],\n",
       "         [-0.15256359]]),\n",
       " 11: matrix([[ 0.02448274],\n",
       "         [ 0.28895766],\n",
       "         [ 0.26307448],\n",
       "         [-0.02474496],\n",
       "         [ 0.26054315],\n",
       "         [ 0.28479968],\n",
       "         [-0.09711276]]),\n",
       " 12: matrix([[ 0.01382066],\n",
       "         [ 0.28614851],\n",
       "         [ 0.15744039],\n",
       "         [-0.07386617],\n",
       "         [ 0.32394889],\n",
       "         [ 0.29886944],\n",
       "         [-0.00636172]])}"
      ]
     },
     "execution_count": 36,
     "metadata": {},
     "output_type": "execute_result"
    }
   ],
   "source": [
    "rebalance_weight_dict # This is the optimal portfolio of each month. The order is ['AAPL','IBM','GOOG','BP','XOM','COST','GS']"
   ]
  },
  {
   "cell_type": "code",
   "execution_count": 37,
   "metadata": {
    "scrolled": false
   },
   "outputs": [
    {
     "data": {
      "text/plain": [
       "{1: 0.4420164049927857,\n",
       " 2: 0.4007684412360026,\n",
       " 3: 0.3891841054361688,\n",
       " 4: 0.4147740459460582,\n",
       " 5: 0.4039934287377625,\n",
       " 6: 0.41851099109718826,\n",
       " 7: 0.4499037633696586,\n",
       " 8: 0.44977348724382443,\n",
       " 9: 0.5445735444303191,\n",
       " 10: 0.522353612466927,\n",
       " 11: 0.4747312346388312,\n",
       " 12: 0.4865435549009648}"
      ]
     },
     "execution_count": 37,
     "metadata": {},
     "output_type": "execute_result"
    }
   ],
   "source": [
    "sharpe_ratio_dict #this is the monthly sharpe ratio of my portfolio"
   ]
  },
  {
   "cell_type": "markdown",
   "metadata": {},
   "source": [
    "### Q5 ###"
   ]
  },
  {
   "cell_type": "markdown",
   "metadata": {},
   "source": [
    "(a)"
   ]
  },
  {
   "cell_type": "code",
   "execution_count": null,
   "metadata": {},
   "outputs": [],
   "source": [
    "import os\n",
    "path = 'my-python-project'\n",
    "dirs = os.listdir(path)\n",
    "count = 0 \n",
    "for file in dirs:\n",
    "    if file.endswith('.py'): # only regard file ends with '.py' as python file\n",
    "        count += 1\n",
    "print(count)"
   ]
  },
  {
   "cell_type": "markdown",
   "metadata": {},
   "source": [
    "(b)"
   ]
  },
  {
   "cell_type": "code",
   "execution_count": null,
   "metadata": {},
   "outputs": [],
   "source": [
    "comment_list = [] # an empty list, this list will show how many comment lines in each file\n",
    "code_list = [] # an empty list, this list will show how many code lines in each file\n",
    "for file in dirs:\n",
    "    file_path = path + file\n",
    "    text = open(file_path,'r')\n",
    "    text_lines = text.readlines()\n",
    "    total_line = len(text_lines)\n",
    "    count_empty_line = 0\n",
    "    for line in text_lines: # count the empty line\n",
    "        if line == '\\n':\n",
    "            count_empty_line += 1\n",
    "    line_wo_empty = total_line - count_empty_line\n",
    "    comment_line = 0\n",
    "    for line in text_lines: # count the comment line\n",
    "        if line.startswith('#'):\n",
    "            comment_line += 1\n",
    "    code_line = line_wo_empty - comment_line\n",
    "    comment_list.append(comment_line)\n",
    "    code_list.append(code_line)\n",
    "print('comment lines in each file is ',comment_list,'.','\\nTotal comment lines in the fold is ',sum(comment_list),'.')\n",
    "print('code lines in each file is ',code_list,'.','\\nTotal code lines in the fold is ',sum(code_list),'.')"
   ]
  },
  {
   "cell_type": "markdown",
   "metadata": {},
   "source": [
    "(c)"
   ]
  },
  {
   "cell_type": "code",
   "execution_count": null,
   "metadata": {},
   "outputs": [],
   "source": [
    "func_list = []\n",
    "for file in dirs:\n",
    "    file_path = path + file\n",
    "    text = open(file_path,'r')\n",
    "    text_lines = text.readlines()    \n",
    "    func_line = 0\n",
    "    for line in text_lines:\n",
    "        if line.startswith('def '):\n",
    "            func_line += 1\n",
    "    func_list.append(func_line)\n",
    "print('function defined in each file is ',func_list,'.','\\nTotal function defined in the fold is ',sum(func_list),'.')"
   ]
  },
  {
   "cell_type": "markdown",
   "metadata": {},
   "source": [
    "（d）"
   ]
  },
  {
   "cell_type": "code",
   "execution_count": null,
   "metadata": {},
   "outputs": [],
   "source": [
    "# I am not familiar with this part. I searched online, and I found gitpython can solve this problem. \n",
    "for file in dirs:\n",
    "    file_path = path + file\n",
    "    text = open(file_path,'r')\n",
    "    text_lines = text.readlines() \n",
    "    change_line = 0\n",
    "    for line in text_lines:\n",
    "        if...:  # Here should be if... to find whether it is change against HEAD~3\n",
    "            change_line += 1\n",
    "print('Here is ' + str(change_line) + ' lines of changes from the current version against HEAD~3')    "
   ]
  },
  {
   "cell_type": "markdown",
   "metadata": {},
   "source": [
    "（e）"
   ]
  },
  {
   "cell_type": "code",
   "execution_count": null,
   "metadata": {},
   "outputs": [],
   "source": [
    "from os.path import join, getsize\n",
    "path = 'my-python-project'\n",
    "folder_size = 0\n",
    "for root, dirs, files in os.walk(path):\n",
    "    file_sum = sum([getsize(join(root, name)) for name in files]) # sum the sizes of all the files in the subfolder\n",
    "    folder_size += file_sum\n",
    "    print('The size of subfolder ', root, 'is ',file_sum)\n",
    "\n",
    "print('The total size of the folder is ', folder_size)"
   ]
  },
  {
   "cell_type": "markdown",
   "metadata": {},
   "source": [
    "### Q6 ###"
   ]
  },
  {
   "cell_type": "code",
   "execution_count": null,
   "metadata": {},
   "outputs": [],
   "source": [
    "#method 1 datafinder will find date automatically, it is convenient to use this library\n",
    "import datefinder\n",
    "text = open(text_path,'r')\n",
    "text_content = text.read()\n",
    "dates = datefinder.find_dates(text_content)\n",
    "date_count = 0\n",
    "for date in dates:\n",
    "    date_count += 1\n",
    "print('There are ' + str(date_count) + ' in this text.')"
   ]
  },
  {
   "cell_type": "code",
   "execution_count": null,
   "metadata": {},
   "outputs": [],
   "source": [
    "#method 2 re library can find certain patterns from text\n",
    "import re\n",
    "text = open(text_path,'r')\n",
    "text_content = text.read()\n",
    "pattern_1 = r'\\d{4}/\\d{2}/\\d{2}'\n",
    "pattern_2 = r'\\d{2}/\\d{2}/\\d{4}'\n",
    "pattern_3 = r'\\d{2}Jan\\d{4}|\\d{2}Feb\\d{4}|\\d{2}Mar\\d{4}|\\d{2}Apr\\d{4}|\\d{2}May\\d{4}|\\d{2}Jun\\d{4}|\\d{2}Jul\\d{4}|\\d{2}Aug\\d{4}|\\d{2}Sep\\d{4}|\\d{2}Oct\\d{4}|\\d{2}Nov\\d{4}|\\d{2}Dec\\d{4}'\n",
    "date_1 = re.findall(pattern_1,text_content)\n",
    "date_2 = re.findall(pattern_2,text_content)\n",
    "date_3 = re.findall(pattern_3,text_content)\n",
    "total_date = len(date_1) + len(date_2) + len(date_3)\n",
    "print('There are ' + str(total_date) + ' in this text.')"
   ]
  },
  {
   "cell_type": "code",
   "execution_count": null,
   "metadata": {},
   "outputs": [],
   "source": []
  }
 ],
 "metadata": {
  "kernelspec": {
   "display_name": "Python 3",
   "language": "python",
   "name": "python3"
  },
  "language_info": {
   "codemirror_mode": {
    "name": "ipython",
    "version": 3
   },
   "file_extension": ".py",
   "mimetype": "text/x-python",
   "name": "python",
   "nbconvert_exporter": "python",
   "pygments_lexer": "ipython3",
   "version": "3.8.5"
  }
 },
 "nbformat": 4,
 "nbformat_minor": 4
}
